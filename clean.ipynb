{
 "cells": [
  {
   "cell_type": "code",
   "execution_count": 33,
   "metadata": {},
   "outputs": [],
   "source": [
    "# # Data Cleaning functions\n",
    "# import re\n",
    "\n",
    "# def merge_hyphenated_words(text):\n",
    "#     return re.sub(r\"(\\w)-\\n(\\w)\", r\"\\1\\2\", text)\n",
    "\n",
    "\n",
    "# def fix_newlines(text):\n",
    "#     return re.sub(r\"(?<!\\n)\\n(?!\\n)\", \" \", text)\n",
    "\n",
    "\n",
    "# def remove_multiple_newlines(text):\n",
    "#     return re.sub(r\"\\n{2,}\", \"\\n\", text)\n",
    "\n",
    "\n",
    "# def clean_text(text):\n",
    "#     \"\"\"\n",
    "#     Cleans the text by passing it through a list of cleaning functions.\n",
    "\n",
    "#     Args:\n",
    "#         text (str): Text to be cleaned\n",
    "\n",
    "#     Returns:\n",
    "#         str: Cleaned text\n",
    "#     \"\"\"\n",
    "#     cleaning_functions = [merge_hyphenated_words, fix_newlines, remove_multiple_newlines]\n",
    "#     for cleaning_function in cleaning_functions:\n",
    "#         text = cleaning_function(text)\n",
    "#     return text\n",
    "\n",
    "\n",
    "# def clean_text(text):\n",
    "#     # Remove HTML tags\n",
    "#     text = re.sub(r'<.*?>', '', text)\n",
    "\n",
    "#     # Remove special characters and extra spaces\n",
    "#     text = re.sub(r'[^a-zA-Z0-9\\s]', '', text)\n",
    "\n",
    "#     # Replace multiple newlines or tabs with a single space\n",
    "#     text = re.sub(r'\\s+', ' ', text)\n",
    "\n",
    "#     # Remove any remaining non-alphanumeric characters except essential punctuation (e.g., periods, commas)\n",
    "#     text = re.sub(r'[^\\w\\s.,]', '', text)\n",
    "\n",
    "#     return text\n",
    "\n",
    "import re\n",
    "\n",
    "def clean_text(text):\n",
    "    # Remove hashtags and asterisks\n",
    "    text = re.sub(r'[#+*]', '', text)\n",
    "\n",
    "    # Remove HTML tags (if any)\n",
    "    text = re.sub(r'<.*?>', '', text)\n",
    "\n",
    "    # Remove special characters but keep formatting characters like '-', ':', and newlines\n",
    "    text = re.sub(r'[^a-zA-Z0-9\\s.,-:\\n]', '', text)\n",
    "\n",
    "    # Replace multiple spaces with a single space\n",
    "    text = re.sub(r'\\s+', ' ', text).strip()\n",
    "\n",
    "    return text"
   ]
  },
  {
   "cell_type": "code",
   "execution_count": 34,
   "metadata": {},
   "outputs": [],
   "source": [
    "import pandas as pd\n",
    "df = pd.read_csv(\"cs_du_scraped_data_clean - demo.csv\",encoding = 'latin')"
   ]
  },
  {
   "cell_type": "code",
   "execution_count": 35,
   "metadata": {},
   "outputs": [
    {
     "data": {
      "text/html": [
       "<div>\n",
       "<style scoped>\n",
       "    .dataframe tbody tr th:only-of-type {\n",
       "        vertical-align: middle;\n",
       "    }\n",
       "\n",
       "    .dataframe tbody tr th {\n",
       "        vertical-align: top;\n",
       "    }\n",
       "\n",
       "    .dataframe thead th {\n",
       "        text-align: right;\n",
       "    }\n",
       "</style>\n",
       "<table border=\"1\" class=\"dataframe\">\n",
       "  <thead>\n",
       "    <tr style=\"text-align: right;\">\n",
       "      <th></th>\n",
       "      <th>url</th>\n",
       "      <th>content</th>\n",
       "      <th>cleaned_content</th>\n",
       "    </tr>\n",
       "  </thead>\n",
       "  <tbody>\n",
       "    <tr>\n",
       "      <th>0</th>\n",
       "      <td>https://cs.du.ac.in/</td>\n",
       "      <td>Department of Computer Science - University of...</td>\n",
       "      <td>### Welcome to the Department of Computer Scie...</td>\n",
       "    </tr>\n",
       "    <tr>\n",
       "      <th>1</th>\n",
       "      <td>https://cs.du.ac.in/programmes/phd/</td>\n",
       "      <td>Ph.D. Computer Science - Department of Compute...</td>\n",
       "      <td># Department of Computer Science - University ...</td>\n",
       "    </tr>\n",
       "    <tr>\n",
       "      <th>2</th>\n",
       "      <td>https://cs.du.ac.in/programmes/phd/supervisors/</td>\n",
       "      <td>Supervisors - Department of Computer Science -...</td>\n",
       "      <td>supervisors department of computer science uni...</td>\n",
       "    </tr>\n",
       "    <tr>\n",
       "      <th>3</th>\n",
       "      <td>https://cs.du.ac.in/programmes/mca/</td>\n",
       "      <td>MCA - Department of Computer Science - Univers...</td>\n",
       "      <td>Master of Computer Applications (MCA) Program ...</td>\n",
       "    </tr>\n",
       "    <tr>\n",
       "      <th>4</th>\n",
       "      <td>https://cs.du.ac.in/programmes/msc/</td>\n",
       "      <td>404 Not Found\\n\\nNot Found\\nThe requested URL ...</td>\n",
       "      <td>The requested URL was not found on this server...</td>\n",
       "    </tr>\n",
       "  </tbody>\n",
       "</table>\n",
       "</div>"
      ],
      "text/plain": [
       "                                               url  \\\n",
       "0                             https://cs.du.ac.in/   \n",
       "1              https://cs.du.ac.in/programmes/phd/   \n",
       "2  https://cs.du.ac.in/programmes/phd/supervisors/   \n",
       "3              https://cs.du.ac.in/programmes/mca/   \n",
       "4              https://cs.du.ac.in/programmes/msc/   \n",
       "\n",
       "                                             content  \\\n",
       "0  Department of Computer Science - University of...   \n",
       "1  Ph.D. Computer Science - Department of Compute...   \n",
       "2  Supervisors - Department of Computer Science -...   \n",
       "3  MCA - Department of Computer Science - Univers...   \n",
       "4  404 Not Found\\n\\nNot Found\\nThe requested URL ...   \n",
       "\n",
       "                                     cleaned_content  \n",
       "0  ### Welcome to the Department of Computer Scie...  \n",
       "1  # Department of Computer Science - University ...  \n",
       "2  supervisors department of computer science uni...  \n",
       "3  Master of Computer Applications (MCA) Program ...  \n",
       "4  The requested URL was not found on this server...  "
      ]
     },
     "execution_count": 35,
     "metadata": {},
     "output_type": "execute_result"
    }
   ],
   "source": [
    "df.head()"
   ]
  },
  {
   "cell_type": "code",
   "execution_count": 36,
   "metadata": {},
   "outputs": [],
   "source": [
    "df['cleaned_content'] = df['cleaned_content'].apply(clean_text)"
   ]
  },
  {
   "cell_type": "code",
   "execution_count": 37,
   "metadata": {},
   "outputs": [
    {
     "data": {
      "text/html": [
       "<div>\n",
       "<style scoped>\n",
       "    .dataframe tbody tr th:only-of-type {\n",
       "        vertical-align: middle;\n",
       "    }\n",
       "\n",
       "    .dataframe tbody tr th {\n",
       "        vertical-align: top;\n",
       "    }\n",
       "\n",
       "    .dataframe thead th {\n",
       "        text-align: right;\n",
       "    }\n",
       "</style>\n",
       "<table border=\"1\" class=\"dataframe\">\n",
       "  <thead>\n",
       "    <tr style=\"text-align: right;\">\n",
       "      <th></th>\n",
       "      <th>url</th>\n",
       "      <th>content</th>\n",
       "      <th>cleaned_content</th>\n",
       "    </tr>\n",
       "  </thead>\n",
       "  <tbody>\n",
       "    <tr>\n",
       "      <th>0</th>\n",
       "      <td>https://cs.du.ac.in/</td>\n",
       "      <td>Department of Computer Science - University of...</td>\n",
       "      <td>Welcome to the Department of Computer Science,...</td>\n",
       "    </tr>\n",
       "    <tr>\n",
       "      <th>1</th>\n",
       "      <td>https://cs.du.ac.in/programmes/phd/</td>\n",
       "      <td>Ph.D. Computer Science - Department of Compute...</td>\n",
       "      <td>Department of Computer Science - University of...</td>\n",
       "    </tr>\n",
       "    <tr>\n",
       "      <th>2</th>\n",
       "      <td>https://cs.du.ac.in/programmes/phd/supervisors/</td>\n",
       "      <td>Supervisors - Department of Computer Science -...</td>\n",
       "      <td>supervisors department of computer science uni...</td>\n",
       "    </tr>\n",
       "    <tr>\n",
       "      <th>3</th>\n",
       "      <td>https://cs.du.ac.in/programmes/mca/</td>\n",
       "      <td>MCA - Department of Computer Science - Univers...</td>\n",
       "      <td>Master of Computer Applications MCA Program at...</td>\n",
       "    </tr>\n",
       "    <tr>\n",
       "      <th>4</th>\n",
       "      <td>https://cs.du.ac.in/programmes/msc/</td>\n",
       "      <td>404 Not Found\\n\\nNot Found\\nThe requested URL ...</td>\n",
       "      <td>The requested URL was not found on this server...</td>\n",
       "    </tr>\n",
       "  </tbody>\n",
       "</table>\n",
       "</div>"
      ],
      "text/plain": [
       "                                               url  \\\n",
       "0                             https://cs.du.ac.in/   \n",
       "1              https://cs.du.ac.in/programmes/phd/   \n",
       "2  https://cs.du.ac.in/programmes/phd/supervisors/   \n",
       "3              https://cs.du.ac.in/programmes/mca/   \n",
       "4              https://cs.du.ac.in/programmes/msc/   \n",
       "\n",
       "                                             content  \\\n",
       "0  Department of Computer Science - University of...   \n",
       "1  Ph.D. Computer Science - Department of Compute...   \n",
       "2  Supervisors - Department of Computer Science -...   \n",
       "3  MCA - Department of Computer Science - Univers...   \n",
       "4  404 Not Found\\n\\nNot Found\\nThe requested URL ...   \n",
       "\n",
       "                                     cleaned_content  \n",
       "0  Welcome to the Department of Computer Science,...  \n",
       "1  Department of Computer Science - University of...  \n",
       "2  supervisors department of computer science uni...  \n",
       "3  Master of Computer Applications MCA Program at...  \n",
       "4  The requested URL was not found on this server...  "
      ]
     },
     "execution_count": 37,
     "metadata": {},
     "output_type": "execute_result"
    }
   ],
   "source": [
    "df.head()"
   ]
  },
  {
   "cell_type": "code",
   "execution_count": 38,
   "metadata": {},
   "outputs": [
    {
     "data": {
      "text/plain": [
       "'Welcome to the Department of Computer Science, University of Delhi The Department of Computer Science at the University of Delhi was established in 1981 with the goal of providing high-quality education in the field of computer science. Equipped with modern facilities for teaching, learning, and research, the department offers a variety of research opportunities and programs at both undergraduate and postgraduate levels. Programs Offered: - Master of Computer Applications MCA 3 years: Introduced in 1982, this was one of the first such programs in India. - MSc Computer Science 2 years: Began in 2004 to develop core competencies in computer science and prepare students for development work and research challenges. - PhD in Computer Science: Aims to produce quality researchers and conduct high-impact interdisciplinary research. - Undergraduate Programs: BSc Hons Computer Science, BSc Physical and Mathematical Sciences, and BA Program Elective Courses in Computer Applications. Key Facilities and Initiatives: - Infrastructure: Modern facilities for teaching, learning, and research. - Research: Extensive research areas, list of PhD supervisors, publications, research grants and projects, and UGC-approved journals. - Student Activities: Various clubs, coding competitions, hackathons, technical fests, research paper presentations, and social activities. - Placement: A dedicated placement team, brochure, list of recruiters, and alumni achievements. - Amenities: Hostels, medical facilities, computer center, central placement cell, central science library, and more. - National Events: Celebrations and expert talks on various occasions like Independence Day, Gandhi Jayanti, and National Science Day. Latest News: - Interview Schedule for PhD Admissions: For the Visvesvaraya PhD Scheme for the academic year 2024-25. - Panel for Guest Faculty: For the academic year 2024-25. Contact Information: - Address: Department of Computer Science, Faculty of Mathematical Sciences, 1st Floor, New Academic Block, University of Delhi, Delhi 110007, India. - Phone: 91-11-2766-7591, 2766-7059 - Email: officecs.du.ac.in - Website: Department of Computer Science, University of Delhihttps://cs.du.ac.in --- Note: The content on this page is subject to the copyright of the University of Delhi, 2022. Website Development Team: Site Maphttps://cs.du.ac.in/sitemap For more information, visit the University of Delhihttps://www.du.ac.in website.'"
      ]
     },
     "execution_count": 38,
     "metadata": {},
     "output_type": "execute_result"
    }
   ],
   "source": [
    "df.iloc[0].cleaned_content"
   ]
  },
  {
   "cell_type": "code",
   "execution_count": 40,
   "metadata": {},
   "outputs": [],
   "source": [
    "df.to_csv('cs_du_scraped_data_clean - demo.csv', index=False, encoding='utf-8')"
   ]
  },
  {
   "cell_type": "code",
   "execution_count": 41,
   "metadata": {},
   "outputs": [
    {
     "data": {
      "text/html": [
       "<div>\n",
       "<style scoped>\n",
       "    .dataframe tbody tr th:only-of-type {\n",
       "        vertical-align: middle;\n",
       "    }\n",
       "\n",
       "    .dataframe tbody tr th {\n",
       "        vertical-align: top;\n",
       "    }\n",
       "\n",
       "    .dataframe thead th {\n",
       "        text-align: right;\n",
       "    }\n",
       "</style>\n",
       "<table border=\"1\" class=\"dataframe\">\n",
       "  <thead>\n",
       "    <tr style=\"text-align: right;\">\n",
       "      <th></th>\n",
       "      <th>url</th>\n",
       "      <th>content</th>\n",
       "      <th>cleaned_content</th>\n",
       "    </tr>\n",
       "  </thead>\n",
       "  <tbody>\n",
       "    <tr>\n",
       "      <th>0</th>\n",
       "      <td>https://cs.du.ac.in/</td>\n",
       "      <td>Department of Computer Science - University of...</td>\n",
       "      <td>Welcome to the Department of Computer Science,...</td>\n",
       "    </tr>\n",
       "    <tr>\n",
       "      <th>1</th>\n",
       "      <td>https://cs.du.ac.in/programmes/phd/</td>\n",
       "      <td>Ph.D. Computer Science - Department of Compute...</td>\n",
       "      <td>Department of Computer Science - University of...</td>\n",
       "    </tr>\n",
       "    <tr>\n",
       "      <th>2</th>\n",
       "      <td>https://cs.du.ac.in/programmes/phd/supervisors/</td>\n",
       "      <td>Supervisors - Department of Computer Science -...</td>\n",
       "      <td>supervisors department of computer science uni...</td>\n",
       "    </tr>\n",
       "    <tr>\n",
       "      <th>3</th>\n",
       "      <td>https://cs.du.ac.in/programmes/mca/</td>\n",
       "      <td>MCA - Department of Computer Science - Univers...</td>\n",
       "      <td>Master of Computer Applications MCA Program at...</td>\n",
       "    </tr>\n",
       "    <tr>\n",
       "      <th>4</th>\n",
       "      <td>https://cs.du.ac.in/programmes/msc/</td>\n",
       "      <td>404 Not Found\\n\\nNot Found\\nThe requested URL ...</td>\n",
       "      <td>The requested URL was not found on this server...</td>\n",
       "    </tr>\n",
       "    <tr>\n",
       "      <th>5</th>\n",
       "      <td>https://cs.du.ac.in/research/publications/</td>\n",
       "      <td>Publications - Department of Computer Science ...</td>\n",
       "      <td>Department of Computer Science University of D...</td>\n",
       "    </tr>\n",
       "  </tbody>\n",
       "</table>\n",
       "</div>"
      ],
      "text/plain": [
       "                                               url  \\\n",
       "0                             https://cs.du.ac.in/   \n",
       "1              https://cs.du.ac.in/programmes/phd/   \n",
       "2  https://cs.du.ac.in/programmes/phd/supervisors/   \n",
       "3              https://cs.du.ac.in/programmes/mca/   \n",
       "4              https://cs.du.ac.in/programmes/msc/   \n",
       "5       https://cs.du.ac.in/research/publications/   \n",
       "\n",
       "                                             content  \\\n",
       "0  Department of Computer Science - University of...   \n",
       "1  Ph.D. Computer Science - Department of Compute...   \n",
       "2  Supervisors - Department of Computer Science -...   \n",
       "3  MCA - Department of Computer Science - Univers...   \n",
       "4  404 Not Found\\n\\nNot Found\\nThe requested URL ...   \n",
       "5  Publications - Department of Computer Science ...   \n",
       "\n",
       "                                     cleaned_content  \n",
       "0  Welcome to the Department of Computer Science,...  \n",
       "1  Department of Computer Science - University of...  \n",
       "2  supervisors department of computer science uni...  \n",
       "3  Master of Computer Applications MCA Program at...  \n",
       "4  The requested URL was not found on this server...  \n",
       "5  Department of Computer Science University of D...  "
      ]
     },
     "execution_count": 41,
     "metadata": {},
     "output_type": "execute_result"
    }
   ],
   "source": [
    "df"
   ]
  },
  {
   "cell_type": "code",
   "execution_count": 42,
   "metadata": {},
   "outputs": [
    {
     "data": {
      "text/plain": [
       "'Welcome to the Department of Computer Science, University of Delhi The Department of Computer Science at the University of Delhi was established in 1981 with the goal of providing high-quality education in the field of computer science. Equipped with modern facilities for teaching, learning, and research, the department offers a variety of research opportunities and programs at both undergraduate and postgraduate levels. Programs Offered: - Master of Computer Applications MCA 3 years: Introduced in 1982, this was one of the first such programs in India. - MSc Computer Science 2 years: Began in 2004 to develop core competencies in computer science and prepare students for development work and research challenges. - PhD in Computer Science: Aims to produce quality researchers and conduct high-impact interdisciplinary research. - Undergraduate Programs: BSc Hons Computer Science, BSc Physical and Mathematical Sciences, and BA Program Elective Courses in Computer Applications. Key Facilities and Initiatives: - Infrastructure: Modern facilities for teaching, learning, and research. - Research: Extensive research areas, list of PhD supervisors, publications, research grants and projects, and UGC-approved journals. - Student Activities: Various clubs, coding competitions, hackathons, technical fests, research paper presentations, and social activities. - Placement: A dedicated placement team, brochure, list of recruiters, and alumni achievements. - Amenities: Hostels, medical facilities, computer center, central placement cell, central science library, and more. - National Events: Celebrations and expert talks on various occasions like Independence Day, Gandhi Jayanti, and National Science Day. Latest News: - Interview Schedule for PhD Admissions: For the Visvesvaraya PhD Scheme for the academic year 2024-25. - Panel for Guest Faculty: For the academic year 2024-25. Contact Information: - Address: Department of Computer Science, Faculty of Mathematical Sciences, 1st Floor, New Academic Block, University of Delhi, Delhi 110007, India. - Phone: 91-11-2766-7591, 2766-7059 - Email: officecs.du.ac.in - Website: Department of Computer Science, University of Delhihttps://cs.du.ac.in --- Note: The content on this page is subject to the copyright of the University of Delhi, 2022. Website Development Team: Site Maphttps://cs.du.ac.in/sitemap For more information, visit the University of Delhihttps://www.du.ac.in website.'"
      ]
     },
     "execution_count": 42,
     "metadata": {},
     "output_type": "execute_result"
    }
   ],
   "source": [
    "df.iloc[0].cleaned_content"
   ]
  },
  {
   "cell_type": "code",
   "execution_count": 43,
   "metadata": {},
   "outputs": [
    {
     "name": "stdout",
     "output_type": "stream",
     "text": [
      "Requirement already satisfied: sentence-transformers in c:\\users\\abhig\\appdata\\local\\programs\\python\\python312\\lib\\site-packages (3.1.1)\n",
      "Requirement already satisfied: transformers<5.0.0,>=4.38.0 in c:\\users\\abhig\\appdata\\local\\programs\\python\\python312\\lib\\site-packages (from sentence-transformers) (4.44.2)\n",
      "Requirement already satisfied: tqdm in c:\\users\\abhig\\appdata\\local\\programs\\python\\python312\\lib\\site-packages (from sentence-transformers) (4.66.5)\n",
      "Requirement already satisfied: torch>=1.11.0 in c:\\users\\abhig\\appdata\\local\\programs\\python\\python312\\lib\\site-packages (from sentence-transformers) (2.4.1)\n",
      "Requirement already satisfied: scikit-learn in c:\\users\\abhig\\appdata\\local\\programs\\python\\python312\\lib\\site-packages (from sentence-transformers) (1.5.2)\n",
      "Requirement already satisfied: scipy in c:\\users\\abhig\\appdata\\local\\programs\\python\\python312\\lib\\site-packages (from sentence-transformers) (1.14.1)\n",
      "Requirement already satisfied: huggingface-hub>=0.19.3 in c:\\users\\abhig\\appdata\\local\\programs\\python\\python312\\lib\\site-packages (from sentence-transformers) (0.25.1)\n",
      "Requirement already satisfied: Pillow in c:\\users\\abhig\\appdata\\local\\programs\\python\\python312\\lib\\site-packages (from sentence-transformers) (10.4.0)\n",
      "Requirement already satisfied: filelock in c:\\users\\abhig\\appdata\\local\\programs\\python\\python312\\lib\\site-packages (from huggingface-hub>=0.19.3->sentence-transformers) (3.16.1)\n",
      "Requirement already satisfied: fsspec>=2023.5.0 in c:\\users\\abhig\\appdata\\local\\programs\\python\\python312\\lib\\site-packages (from huggingface-hub>=0.19.3->sentence-transformers) (2024.9.0)\n",
      "Requirement already satisfied: packaging>=20.9 in c:\\users\\abhig\\appdata\\roaming\\python\\python312\\site-packages (from huggingface-hub>=0.19.3->sentence-transformers) (24.1)\n",
      "Requirement already satisfied: pyyaml>=5.1 in c:\\users\\abhig\\appdata\\local\\programs\\python\\python312\\lib\\site-packages (from huggingface-hub>=0.19.3->sentence-transformers) (6.0.2)\n",
      "Requirement already satisfied: requests in c:\\users\\abhig\\appdata\\local\\programs\\python\\python312\\lib\\site-packages (from huggingface-hub>=0.19.3->sentence-transformers) (2.32.3)\n",
      "Requirement already satisfied: typing-extensions>=3.7.4.3 in c:\\users\\abhig\\appdata\\local\\programs\\python\\python312\\lib\\site-packages (from huggingface-hub>=0.19.3->sentence-transformers) (4.12.2)\n",
      "Requirement already satisfied: sympy in c:\\users\\abhig\\appdata\\local\\programs\\python\\python312\\lib\\site-packages (from torch>=1.11.0->sentence-transformers) (1.13.3)\n",
      "Requirement already satisfied: networkx in c:\\users\\abhig\\appdata\\local\\programs\\python\\python312\\lib\\site-packages (from torch>=1.11.0->sentence-transformers) (3.3)\n",
      "Requirement already satisfied: jinja2 in c:\\users\\abhig\\appdata\\local\\programs\\python\\python312\\lib\\site-packages (from torch>=1.11.0->sentence-transformers) (3.1.4)\n",
      "Requirement already satisfied: setuptools in c:\\users\\abhig\\appdata\\local\\programs\\python\\python312\\lib\\site-packages (from torch>=1.11.0->sentence-transformers) (75.1.0)\n",
      "Requirement already satisfied: colorama in c:\\users\\abhig\\appdata\\roaming\\python\\python312\\site-packages (from tqdm->sentence-transformers) (0.4.6)\n",
      "Requirement already satisfied: numpy>=1.17 in c:\\users\\abhig\\appdata\\local\\programs\\python\\python312\\lib\\site-packages (from transformers<5.0.0,>=4.38.0->sentence-transformers) (1.26.4)\n",
      "Requirement already satisfied: regex!=2019.12.17 in c:\\users\\abhig\\appdata\\local\\programs\\python\\python312\\lib\\site-packages (from transformers<5.0.0,>=4.38.0->sentence-transformers) (2024.9.11)\n",
      "Requirement already satisfied: safetensors>=0.4.1 in c:\\users\\abhig\\appdata\\local\\programs\\python\\python312\\lib\\site-packages (from transformers<5.0.0,>=4.38.0->sentence-transformers) (0.4.5)\n",
      "Requirement already satisfied: tokenizers<0.20,>=0.19 in c:\\users\\abhig\\appdata\\local\\programs\\python\\python312\\lib\\site-packages (from transformers<5.0.0,>=4.38.0->sentence-transformers) (0.19.1)\n",
      "Requirement already satisfied: joblib>=1.2.0 in c:\\users\\abhig\\appdata\\local\\programs\\python\\python312\\lib\\site-packages (from scikit-learn->sentence-transformers) (1.4.2)\n",
      "Requirement already satisfied: threadpoolctl>=3.1.0 in c:\\users\\abhig\\appdata\\local\\programs\\python\\python312\\lib\\site-packages (from scikit-learn->sentence-transformers) (3.5.0)\n",
      "Requirement already satisfied: MarkupSafe>=2.0 in c:\\users\\abhig\\appdata\\local\\programs\\python\\python312\\lib\\site-packages (from jinja2->torch>=1.11.0->sentence-transformers) (2.1.5)\n",
      "Requirement already satisfied: charset-normalizer<4,>=2 in c:\\users\\abhig\\appdata\\local\\programs\\python\\python312\\lib\\site-packages (from requests->huggingface-hub>=0.19.3->sentence-transformers) (3.3.2)\n",
      "Requirement already satisfied: idna<4,>=2.5 in c:\\users\\abhig\\appdata\\local\\programs\\python\\python312\\lib\\site-packages (from requests->huggingface-hub>=0.19.3->sentence-transformers) (3.10)\n",
      "Requirement already satisfied: urllib3<3,>=1.21.1 in c:\\users\\abhig\\appdata\\local\\programs\\python\\python312\\lib\\site-packages (from requests->huggingface-hub>=0.19.3->sentence-transformers) (2.2.3)\n",
      "Requirement already satisfied: certifi>=2017.4.17 in c:\\users\\abhig\\appdata\\local\\programs\\python\\python312\\lib\\site-packages (from requests->huggingface-hub>=0.19.3->sentence-transformers) (2024.8.30)\n",
      "Requirement already satisfied: mpmath<1.4,>=1.1.0 in c:\\users\\abhig\\appdata\\local\\programs\\python\\python312\\lib\\site-packages (from sympy->torch>=1.11.0->sentence-transformers) (1.3.0)\n",
      "Note: you may need to restart the kernel to use updated packages.\n"
     ]
    }
   ],
   "source": [
    "%pip install sentence-transformers "
   ]
  },
  {
   "cell_type": "code",
   "execution_count": 46,
   "metadata": {},
   "outputs": [
    {
     "name": "stderr",
     "output_type": "stream",
     "text": [
      "c:\\Users\\abhig\\AppData\\Local\\Programs\\Python\\Python312\\Lib\\site-packages\\transformers\\tokenization_utils_base.py:1601: FutureWarning: `clean_up_tokenization_spaces` was not set. It will be set to `True` by default. This behavior will be depracted in transformers v4.45, and will be then set to `False` by default. For more details check this issue: https://github.com/huggingface/transformers/issues/31884\n",
      "  warnings.warn(\n"
     ]
    },
    {
     "name": "stdout",
     "output_type": "stream",
     "text": [
      "Created and saved 6 embeddings\n"
     ]
    }
   ],
   "source": [
    "import pandas as pd\n",
    "import numpy as np\n",
    "import json\n",
    "from sentence_transformers import SentenceTransformer\n",
    "\n",
    "# Load the CSV data\n",
    "data = pd.read_csv('cs_du_scraped_data_clean - demo.csv')  # Replace with your CSV file path\n",
    "\n",
    "# Initialize the sentence transformer model\n",
    "model = SentenceTransformer('all-MiniLM-L6-v2')\n",
    "\n",
    "# Create embeddings\n",
    "embeddings = []\n",
    "texts = []\n",
    "\n",
    "for index, row in data.iterrows():\n",
    "    text = row['cleaned_content']  # Replace with the name of your text column\n",
    "    texts.append(text)\n",
    "    embedding = model.encode(text)\n",
    "    embeddings.append(embedding)\n",
    "\n",
    "# Convert to numpy array for easier handling\n",
    "embeddings = np.array(embeddings)\n",
    "\n",
    "# Save embeddings\n",
    "np.save('csdu_embeddings.npy', embeddings)\n",
    "\n",
    "# Save corresponding texts\n",
    "with open('csdu_texts.json', 'w') as f:\n",
    "    json.dump(texts, f)\n",
    "\n",
    "print(f\"Created and saved {len(embeddings)} embeddings\")"
   ]
  },
  {
   "cell_type": "code",
   "execution_count": 48,
   "metadata": {},
   "outputs": [
    {
     "name": "stdout",
     "output_type": "stream",
     "text": [
      "Collecting faiss-cpu\n",
      "  Downloading faiss_cpu-1.8.0.post1-cp312-cp312-win_amd64.whl.metadata (3.8 kB)\n",
      "Requirement already satisfied: numpy<2.0,>=1.0 in c:\\users\\abhig\\appdata\\local\\programs\\python\\python312\\lib\\site-packages (from faiss-cpu) (1.26.4)\n",
      "Requirement already satisfied: packaging in c:\\users\\abhig\\appdata\\roaming\\python\\python312\\site-packages (from faiss-cpu) (24.1)\n",
      "Downloading faiss_cpu-1.8.0.post1-cp312-cp312-win_amd64.whl (14.6 MB)\n",
      "   ---------------------------------------- 0.0/14.6 MB ? eta -:--:--\n",
      "   ---- ----------------------------------- 1.6/14.6 MB 8.3 MB/s eta 0:00:02\n",
      "   ------- -------------------------------- 2.9/14.6 MB 7.3 MB/s eta 0:00:02\n",
      "   ------------- -------------------------- 5.0/14.6 MB 7.9 MB/s eta 0:00:02\n",
      "   ------------------ --------------------- 6.8/14.6 MB 8.4 MB/s eta 0:00:01\n",
      "   ------------------------ --------------- 8.9/14.6 MB 8.5 MB/s eta 0:00:01\n",
      "   ------------------------------ --------- 11.0/14.6 MB 8.7 MB/s eta 0:00:01\n",
      "   ---------------------------------- ----- 12.6/14.6 MB 8.6 MB/s eta 0:00:01\n",
      "   -------------------------------------- - 14.2/14.6 MB 8.5 MB/s eta 0:00:01\n",
      "   ---------------------------------------- 14.6/14.6 MB 8.2 MB/s eta 0:00:00\n",
      "Installing collected packages: faiss-cpu\n",
      "Successfully installed faiss-cpu-1.8.0.post1\n",
      "Note: you may need to restart the kernel to use updated packages.\n"
     ]
    }
   ],
   "source": [
    "%pip install faiss-cpu"
   ]
  },
  {
   "cell_type": "code",
   "execution_count": 49,
   "metadata": {},
   "outputs": [
    {
     "name": "stdout",
     "output_type": "stream",
     "text": [
      "Created and saved FAISS index with 6 vectors\n"
     ]
    }
   ],
   "source": [
    "import numpy as np\n",
    "import faiss\n",
    "import json\n",
    "\n",
    "# Load the embeddings and texts\n",
    "embeddings = np.load('csdu_embeddings.npy')\n",
    "\n",
    "# Ensure embeddings are in float32 format for FAISS\n",
    "embeddings = embeddings.astype('float32')\n",
    "\n",
    "with open('csdu_texts.json', 'r') as f:\n",
    "    texts = json.load(f)\n",
    "\n",
    "# Create a FAISS index\n",
    "dimension = embeddings.shape[1]\n",
    "index = faiss.IndexFlatL2(dimension)\n",
    "\n",
    "# Add the vectors to the index\n",
    "index.add(embeddings)\n",
    "\n",
    "# Save the index\n",
    "faiss.write_index(index, 'csdu_faiss_index.index')  # Added '.index' extension for clarity\n",
    "\n",
    "print(f\"Created and saved FAISS index with {index.ntotal} vectors\")"
   ]
  },
  {
   "cell_type": "code",
   "execution_count": 51,
   "metadata": {},
   "outputs": [
    {
     "ename": "RuntimeError",
     "evalue": "Error in __cdecl faiss::FileIOReader::FileIOReader(const char *) at D:\\a\\faiss-wheels\\faiss-wheels\\faiss\\faiss\\impl\\io.cpp:68: Error: 'f' failed: could not open csdu_faiss_index for reading: No such file or directory",
     "output_type": "error",
     "traceback": [
      "\u001b[1;31m---------------------------------------------------------------------------\u001b[0m",
      "\u001b[1;31mRuntimeError\u001b[0m                              Traceback (most recent call last)",
      "\u001b[1;32m~\\AppData\\Local\\Temp\\ipykernel_17956\\3144818546.py\u001b[0m in \u001b[0;36m?\u001b[1;34m()\u001b[0m\n\u001b[0;32m     53\u001b[0m         \u001b[0mresponse\u001b[0m \u001b[1;33m=\u001b[0m \u001b[0mself\u001b[0m\u001b[1;33m.\u001b[0m\u001b[0mgenerate_response\u001b[0m\u001b[1;33m(\u001b[0m\u001b[0mquery\u001b[0m\u001b[1;33m,\u001b[0m \u001b[0mcontext\u001b[0m\u001b[1;33m)\u001b[0m\u001b[1;33m\u001b[0m\u001b[1;33m\u001b[0m\u001b[0m\n\u001b[0;32m     54\u001b[0m         \u001b[1;32mreturn\u001b[0m \u001b[0mresponse\u001b[0m\u001b[1;33m\u001b[0m\u001b[1;33m\u001b[0m\u001b[0m\n\u001b[0;32m     55\u001b[0m \u001b[1;33m\u001b[0m\u001b[0m\n\u001b[0;32m     56\u001b[0m \u001b[1;31m# Usage\u001b[0m\u001b[1;33m\u001b[0m\u001b[1;33m\u001b[0m\u001b[0m\n\u001b[1;32m---> 57\u001b[1;33m \u001b[0mchatbot\u001b[0m \u001b[1;33m=\u001b[0m \u001b[0mRAGChatbot\u001b[0m\u001b[1;33m(\u001b[0m\u001b[1;34m'csdu_faiss_index'\u001b[0m\u001b[1;33m,\u001b[0m \u001b[1;34m'csdu_texts.json'\u001b[0m\u001b[1;33m)\u001b[0m\u001b[1;33m\u001b[0m\u001b[1;33m\u001b[0m\u001b[0m\n\u001b[0m\u001b[0;32m     58\u001b[0m \u001b[1;33m\u001b[0m\u001b[0m\n\u001b[0;32m     59\u001b[0m \u001b[1;31m# Example conversation loop\u001b[0m\u001b[1;33m\u001b[0m\u001b[1;33m\u001b[0m\u001b[0m\n\u001b[0;32m     60\u001b[0m \u001b[1;32mwhile\u001b[0m \u001b[1;32mTrue\u001b[0m\u001b[1;33m:\u001b[0m\u001b[1;33m\u001b[0m\u001b[1;33m\u001b[0m\u001b[0m\n",
      "\u001b[1;32m~\\AppData\\Local\\Temp\\ipykernel_17956\\3144818546.py\u001b[0m in \u001b[0;36m?\u001b[1;34m(self, index_path, texts_path, model_name)\u001b[0m\n\u001b[0;32m      9\u001b[0m     \u001b[1;32mdef\u001b[0m \u001b[0m__init__\u001b[0m\u001b[1;33m(\u001b[0m\u001b[0mself\u001b[0m\u001b[1;33m,\u001b[0m \u001b[0mindex_path\u001b[0m\u001b[1;33m,\u001b[0m \u001b[0mtexts_path\u001b[0m\u001b[1;33m,\u001b[0m \u001b[0mmodel_name\u001b[0m\u001b[1;33m=\u001b[0m\u001b[1;34m\"gpt2\"\u001b[0m\u001b[1;33m)\u001b[0m\u001b[1;33m:\u001b[0m\u001b[1;33m\u001b[0m\u001b[1;33m\u001b[0m\u001b[0m\n\u001b[0;32m     10\u001b[0m         \u001b[1;31m# Load FAISS index\u001b[0m\u001b[1;33m\u001b[0m\u001b[1;33m\u001b[0m\u001b[0m\n\u001b[1;32m---> 11\u001b[1;33m         \u001b[0mself\u001b[0m\u001b[1;33m.\u001b[0m\u001b[0mindex\u001b[0m \u001b[1;33m=\u001b[0m \u001b[0mfaiss\u001b[0m\u001b[1;33m.\u001b[0m\u001b[0mread_index\u001b[0m\u001b[1;33m(\u001b[0m\u001b[0mindex_path\u001b[0m\u001b[1;33m)\u001b[0m\u001b[1;33m\u001b[0m\u001b[1;33m\u001b[0m\u001b[0m\n\u001b[0m\u001b[0;32m     12\u001b[0m \u001b[1;33m\u001b[0m\u001b[0m\n\u001b[0;32m     13\u001b[0m         \u001b[1;31m# Load texts\u001b[0m\u001b[1;33m\u001b[0m\u001b[1;33m\u001b[0m\u001b[0m\n\u001b[0;32m     14\u001b[0m         \u001b[1;32mwith\u001b[0m \u001b[0mopen\u001b[0m\u001b[1;33m(\u001b[0m\u001b[0mtexts_path\u001b[0m\u001b[1;33m,\u001b[0m \u001b[1;34m'r'\u001b[0m\u001b[1;33m)\u001b[0m \u001b[1;32mas\u001b[0m \u001b[0mf\u001b[0m\u001b[1;33m:\u001b[0m\u001b[1;33m\u001b[0m\u001b[1;33m\u001b[0m\u001b[0m\n",
      "\u001b[1;32mc:\\Users\\abhig\\AppData\\Local\\Programs\\Python\\Python312\\Lib\\site-packages\\faiss\\swigfaiss_avx2.py\u001b[0m in \u001b[0;36m?\u001b[1;34m(*args)\u001b[0m\n\u001b[0;32m  10408\u001b[0m \u001b[1;32mdef\u001b[0m \u001b[0mread_index\u001b[0m\u001b[1;33m(\u001b[0m\u001b[1;33m*\u001b[0m\u001b[0margs\u001b[0m\u001b[1;33m)\u001b[0m\u001b[1;33m:\u001b[0m\u001b[1;33m\u001b[0m\u001b[1;33m\u001b[0m\u001b[0m\n\u001b[1;32m> 10409\u001b[1;33m     \u001b[1;32mreturn\u001b[0m \u001b[0m_swigfaiss_avx2\u001b[0m\u001b[1;33m.\u001b[0m\u001b[0mread_index\u001b[0m\u001b[1;33m(\u001b[0m\u001b[1;33m*\u001b[0m\u001b[0margs\u001b[0m\u001b[1;33m)\u001b[0m\u001b[1;33m\u001b[0m\u001b[1;33m\u001b[0m\u001b[0m\n\u001b[0m",
      "\u001b[1;31mRuntimeError\u001b[0m: Error in __cdecl faiss::FileIOReader::FileIOReader(const char *) at D:\\a\\faiss-wheels\\faiss-wheels\\faiss\\faiss\\impl\\io.cpp:68: Error: 'f' failed: could not open csdu_faiss_index for reading: No such file or directory"
     ]
    }
   ],
   "source": [
    "import os\n",
    "import numpy as np\n",
    "import faiss\n",
    "import json\n",
    "from sentence_transformers import SentenceTransformer\n",
    "from transformers import AutoTokenizer, AutoModelForCausalLM\n",
    "\n",
    "class RAGChatbot:\n",
    "    def __init__(self, index_path, texts_path, model_name=\"gpt2\"):\n",
    "        # Load FAISS index\n",
    "        self.index = faiss.read_index(index_path)\n",
    "        \n",
    "        # Load texts\n",
    "        with open(texts_path, 'r') as f:\n",
    "            self.texts = json.load(f)\n",
    "        \n",
    "        # Initialize sentence transformer for encoding queries\n",
    "        self.sentence_transformer = SentenceTransformer('all-MiniLM-L6-v2')\n",
    "        \n",
    "        # Initialize language model and tokenizer\n",
    "        self.tokenizer = AutoTokenizer.from_pretrained(model_name)\n",
    "        self.model = AutoModelForCausalLM.from_pretrained(model_name)\n",
    "\n",
    "    def get_relevant_context(self, query, k=3):\n",
    "        # Encode the query\n",
    "        query_vector = self.sentence_transformer.encode([query])[0].astype('float32')\n",
    "        \n",
    "        # Search the FAISS index\n",
    "        _, indices = self.index.search(np.array([query_vector]), k)\n",
    "        \n",
    "        # Retrieve the corresponding texts\n",
    "        relevant_texts = [self.texts[i] for i in indices[0]]\n",
    "        \n",
    "        return \" \".join(relevant_texts)\n",
    "\n",
    "    def generate_response(self, query, context):\n",
    "        # Prepare input for the language model\n",
    "        input_text = f\"Context: {context}\\n\\nQuestion: {query}\\n\\nAnswer:\"\n",
    "        input_ids = self.tokenizer.encode(input_text, return_tensors=\"pt\")\n",
    "        \n",
    "        # Generate response\n",
    "        output = self.model.generate(input_ids, max_length=150, num_return_sequences=1, no_repeat_ngram_size=2)\n",
    "        \n",
    "        response = self.tokenizer.decode(output[0], skip_special_tokens=True)\n",
    "        \n",
    "        # Extract the generated answer (everything after \"Answer:\")\n",
    "        answer = response.split(\"Answer:\")[-1].strip()\n",
    "        \n",
    "        return answer\n",
    "\n",
    "    def chat(self, query):\n",
    "        context = self.get_relevant_context(query)\n",
    "        response = self.generate_response(query, context)\n",
    "        return response\n",
    "\n",
    "# Usage\n",
    "chatbot = RAGChatbot('csdu_faiss_index', 'csdu_texts.json')\n",
    "\n",
    "# Example conversation loop\n",
    "while True:\n",
    "    user_input = input(\"You: \")\n",
    "    if user_input.lower() in ['quit', 'exit', 'bye']:\n",
    "        break\n",
    "    response = chatbot.chat(user_input)\n",
    "    print(f\"Chatbot: {response}\")"
   ]
  },
  {
   "cell_type": "code",
   "execution_count": null,
   "metadata": {},
   "outputs": [],
   "source": []
  }
 ],
 "metadata": {
  "kernelspec": {
   "display_name": "Python 3",
   "language": "python",
   "name": "python3"
  },
  "language_info": {
   "codemirror_mode": {
    "name": "ipython",
    "version": 3
   },
   "file_extension": ".py",
   "mimetype": "text/x-python",
   "name": "python",
   "nbconvert_exporter": "python",
   "pygments_lexer": "ipython3",
   "version": "3.12.6"
  }
 },
 "nbformat": 4,
 "nbformat_minor": 2
}
